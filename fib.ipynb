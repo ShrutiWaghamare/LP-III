{
 "cells": [
  {
   "cell_type": "code",
   "execution_count": 5,
   "metadata": {},
   "outputs": [
    {
     "name": "stdout",
     "output_type": "stream",
     "text": [
      "Fibonacci number at position 10 is:  55\n"
     ]
    }
   ],
   "source": [
    "def fibonacci_iterative(n):\n",
    "    if n <= 1:\n",
    "        return n\n",
    "    \n",
    "    a, b = 0, 1\n",
    "    \n",
    "    for _ in range(2, n+1):\n",
    "        a, b = b, a + b\n",
    "        \n",
    "    return b\n",
    "\n",
    "n = int(input(\"Enter the number: \"))\n",
    "print(f\"Fibonacci number at position {n} is: \", fibonacci_iterative(n))"
   ]
  },
  {
   "cell_type": "code",
   "execution_count": 8,
   "metadata": {},
   "outputs": [
    {
     "name": "stdout",
     "output_type": "stream",
     "text": [
      "Fibonacci number at position 10 is:  55\n"
     ]
    }
   ],
   "source": [
    "def fibonacci_recursive(n):\n",
    "    if n <= 1:\n",
    "        return n\n",
    "    return fibonacci_recursive(n-1) + fibonacci_recursive(n-2)\n",
    "\n",
    "n = int(input(\"Enter the number: \"))\n",
    "print(f\"Fibonacci number at position {n} is: \", fibonacci_recursive(n))"
   ]
  },
  {
   "cell_type": "code",
   "execution_count": null,
   "metadata": {},
   "outputs": [],
   "source": [
    "#knap sack\n",
    "\n",
    "# Get the number of objects\n",
    "n = int(input(\"Enter the number of objects: \"))\n",
    "\n",
    "# Get the weights of the objects\n",
    "weights = list(map(int, input(\"Enter the weights of the objects: \").split()))\n",
    "\n",
    "# Get the profits of the objects\n",
    "profits = list(map(int, input(\"Enter the profits of the objects: \").split()))\n",
    "\n",
    "# Get the maximum capacity of the bag\n",
    "max_capacity = int(input(\"Enter the maximum capacity of the bag: \"))\n",
    "\n",
    "# Create a list to store the weight, profit, and profit-to-weight ratio\n",
    "items = []\n",
    "for i in range(n):\n",
    "    profit_to_weight = profits[i] / weights[i]\n",
    "    items.append([weights[i], profits[i], profit_to_weight])\n",
    "\n",
    "# Sort the items by profit-to-weight ratio in descending order\n",
    "items.sort(key=lambda x: x[2], reverse=True)\n",
    "\n",
    "# Initialize the maximum profit\n",
    "total_profit = 0\n",
    "\n",
    "# Loop through the sorted items\n",
    "for i in range(n):\n",
    "    if max_capacity > 0 and items[i][0] <= max_capacity:\n",
    "        # If the item can fit, add its full profit\n",
    "        total_profit += items[i][1]\n",
    "        max_capacity -= items[i][0]\n",
    "    else:\n",
    "        # If the item can't fit, take a fraction of it\n",
    "        fraction_profit = items[i][2] * max_capacity\n",
    "        total_profit += fraction_profit\n",
    "        break  # No more items can be added\n",
    "\n",
    "# Print the total profit\n",
    "print(\"Maximum profit:\", total_profit)\n",
    "\n"
   ]
  },
  {
   "cell_type": "code",
   "execution_count": null,
   "metadata": {},
   "outputs": [],
   "source": []
  }
 ],
 "metadata": {
  "kernelspec": {
   "display_name": "Python 3",
   "language": "python",
   "name": "python3"
  },
  "language_info": {
   "codemirror_mode": {
    "name": "ipython",
    "version": 3
   },
   "file_extension": ".py",
   "mimetype": "text/x-python",
   "name": "python",
   "nbconvert_exporter": "python",
   "pygments_lexer": "ipython3",
   "version": "3.12.6"
  }
 },
 "nbformat": 4,
 "nbformat_minor": 2
}
