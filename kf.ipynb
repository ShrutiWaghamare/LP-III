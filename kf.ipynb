{
 "cells": [
  {
   "cell_type": "code",
   "execution_count": 8,
   "metadata": {},
   "outputs": [
    {
     "name": "stdout",
     "output_type": "stream",
     "text": [
      "Maximum Profit: 240.0\n"
     ]
    }
   ],
   "source": [
    "n = int(input(\"Enter the number of objects: \"))\n",
    "weights = list(map(int, input(\"Enter the weights of objects: \").split()))\n",
    "profits = list(map(int, input(\"Enter the profits of objects: \").split()))\n",
    "capacity = int(input(\"Enter the maximum capacity of the bag: \"))\n",
    "\n",
    "# Check if weights and profits match the number of objects\n",
    "if len(weights) != n or len(profits) != n:\n",
    "    print(\"Error: The number of weights and profits must match the number of objects.\")\n",
    "else:\n",
    "    # List to store (weight, profit, profit-to-weight ratio) for each item\n",
    "    items = []\n",
    "    for i in range(n):\n",
    "        items.append((weights[i], profits[i], float(profits[i] / weights[i])))\n",
    "\n",
    "    # Sort items by profit-to-weight ratio in descending order\n",
    "    items.sort(key=lambda x: x[2], reverse=True)\n",
    "\n",
    "    # Calculate maximum profit\n",
    "    total_profit = 0\n",
    "    for weight, profit, ratio in items:\n",
    "        if capacity >= weight:\n",
    "            total_profit += profit\n",
    "            capacity -= weight\n",
    "        else:\n",
    "            total_profit += capacity * ratio\n",
    "            break\n",
    "\n",
    "    # Print the result\n",
    "    print(\"Maximum Profit:\", total_profit)\n"
   ]
  },
  {
   "cell_type": "code",
   "execution_count": null,
   "metadata": {},
   "outputs": [],
   "source": []
  }
 ],
 "metadata": {
  "kernelspec": {
   "display_name": "Python 3",
   "language": "python",
   "name": "python3"
  },
  "language_info": {
   "codemirror_mode": {
    "name": "ipython",
    "version": 3
   },
   "file_extension": ".py",
   "mimetype": "text/x-python",
   "name": "python",
   "nbconvert_exporter": "python",
   "pygments_lexer": "ipython3",
   "version": "3.12.6"
  }
 },
 "nbformat": 4,
 "nbformat_minor": 2
}
